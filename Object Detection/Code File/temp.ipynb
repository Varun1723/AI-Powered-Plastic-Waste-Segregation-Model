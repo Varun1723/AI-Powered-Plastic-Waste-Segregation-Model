{
 "cells": [
  {
   "cell_type": "code",
   "execution_count": null,
   "id": "0cfa8eee",
   "metadata": {},
   "outputs": [],
   "source": [
    "import torch\n",
    "print(torch.cuda.is_available())  # Should return True\n",
    "print(torch.cuda.get_device_name(0))  # Should display your GPU name"
   ]
  },
  {
   "cell_type": "code",
   "execution_count": null,
   "id": "38acf45f",
   "metadata": {},
   "outputs": [],
   "source": [
    "import torch\n",
    "print(\"CUDA available:\", torch.cuda.is_available())\n",
    "print(\"GPU name:\", torch.cuda.get_device_name(0) if torch.cuda.is_available() else \"None\")\n"
   ]
  },
  {
   "cell_type": "code",
   "execution_count": null,
   "id": "60c21aef",
   "metadata": {},
   "outputs": [],
   "source": [
    "import torchvision.ops as ops\n",
    "import torch\n",
    "\n",
    "# quick smoke test\n",
    "boxes = torch.rand(10,4).cuda()\n",
    "scores = torch.rand(10).cuda()\n",
    "\n",
    "# should run on GPU\n",
    "out = ops.nms(boxes, scores, iou_threshold=0.5)\n",
    "print(\"NMS output indices:\", out)\n"
   ]
  },
  {
   "cell_type": "code",
   "execution_count": 6,
   "id": "51c4fc71",
   "metadata": {},
   "outputs": [
    {
     "name": "stdout",
     "output_type": "stream",
     "text": [
      "Camera index 0: OK\n",
      "Camera index 1: OK\n",
      "Camera index 2: No signal\n",
      "Camera index 3: No signal\n",
      "Camera index 4: No signal\n"
     ]
    }
   ],
   "source": [
    "import cv2\n",
    "\n",
    "def test_camera(idx):\n",
    "    cap = cv2.VideoCapture(idx, cv2.CAP_DSHOW)\n",
    "    ret, _ = cap.read()\n",
    "    cap.release()\n",
    "    return ret\n",
    "\n",
    "for i in range(5):\n",
    "    ok = test_camera(i)\n",
    "    print(f\"Camera index {i}: {'OK' if ok else 'No signal'}\")\n"
   ]
  },
  {
   "cell_type": "code",
   "execution_count": null,
   "id": "480c35ff",
   "metadata": {},
   "outputs": [
    {
     "ename": "KeyboardInterrupt",
     "evalue": "",
     "output_type": "error",
     "traceback": [
      "\u001b[1;31m---------------------------------------------------------------------------\u001b[0m",
      "\u001b[1;31mKeyboardInterrupt\u001b[0m                         Traceback (most recent call last)",
      "Cell \u001b[1;32mIn[5], line 6\u001b[0m\n\u001b[0;32m      4\u001b[0m     \u001b[38;5;28;01mif\u001b[39;00m \u001b[38;5;129;01mnot\u001b[39;00m ret: \u001b[38;5;28;01mbreak\u001b[39;00m\n\u001b[0;32m      5\u001b[0m     cv2\u001b[38;5;241m.\u001b[39mimshow(\u001b[38;5;124m'\u001b[39m\u001b[38;5;124mTest Cam\u001b[39m\u001b[38;5;124m'\u001b[39m, frame)\n\u001b[1;32m----> 6\u001b[0m     \u001b[38;5;28;01mif\u001b[39;00m cv2\u001b[38;5;241m.\u001b[39mwaitKey(\u001b[38;5;241m0\u001b[39m) \u001b[38;5;241m&\u001b[39m \u001b[38;5;241m0xFF\u001b[39m \u001b[38;5;241m==\u001b[39m \u001b[38;5;241m27\u001b[39m: \u001b[38;5;28;01mbreak\u001b[39;00m\n\u001b[0;32m      7\u001b[0m cap\u001b[38;5;241m.\u001b[39mrelease()\n\u001b[0;32m      8\u001b[0m cv2\u001b[38;5;241m.\u001b[39mdestroyAllWindows()\n",
      "\u001b[1;31mKeyboardInterrupt\u001b[0m: "
     ]
    }
   ],
   "source": [
    "cap = cv2.VideoCapture(1, cv2.CAP_DSHOW)  # replace 1 with the candidate index\n",
    "while True:\n",
    "    ret, frame = cap.read()\n",
    "    if not ret: break\n",
    "    cv2.imshow('Test Cam', frame)\n",
    "    if cv2.waitKey(1) & 0xFF == 27: break\n",
    "cap.release()\n",
    "cv2.destroyAllWindows()\n"
   ]
  },
  {
   "cell_type": "code",
   "execution_count": 8,
   "id": "5ba1a270",
   "metadata": {},
   "outputs": [
    {
     "name": "stdout",
     "output_type": "stream",
     "text": [
      "Showing camera at index 0. Press ESC to close.\n",
      "Showing camera at index 1. Press ESC to close.\n",
      "Index 2 failed to open.\n",
      "Index 3 failed to open.\n"
     ]
    }
   ],
   "source": [
    "# try_cameras.py\n",
    "import cv2\n",
    "\n",
    "def show_cam(idx):\n",
    "    cap = cv2.VideoCapture(idx, cv2.CAP_DSHOW)\n",
    "    if not cap.isOpened():\n",
    "        print(f\"Index {idx} failed to open.\")\n",
    "        return\n",
    "    print(f\"Showing camera at index {idx}. Press ESC to close.\")\n",
    "    while True:\n",
    "        ret, frame = cap.read()\n",
    "        if not ret:\n",
    "            break\n",
    "        cv2.imshow(f\"Camera {idx}\", frame)\n",
    "        if cv2.waitKey(1) == 27:  # ESC\n",
    "            break\n",
    "    cap.release()\n",
    "    cv2.destroyAllWindows()\n",
    "\n",
    "for i in range(4):\n",
    "    show_cam(i)\n"
   ]
  },
  {
   "cell_type": "code",
   "execution_count": null,
   "id": "b555e71b",
   "metadata": {},
   "outputs": [],
   "source": [
    "# debug_camo.py\n",
    "\n",
    "import cv2\n",
    "\n",
    "def main():\n",
    "    # Try both backends\n",
    "    for backend in (cv2.CAP_DSHOW, cv2.CAP_MSMF):\n",
    "        print(f\"\\nTrying backend {backend}...\")\n",
    "        cap = cv2.VideoCapture(0, backend)\n",
    "        if not cap.isOpened():\n",
    "            print(\"  ❌ Cannot open camera\")\n",
    "            continue\n",
    "\n",
    "        # Try forcing a few resolutions\n",
    "        for w,h in [(1280,720), (640,480), (1920,1080)]:\n",
    "            cap.set(cv2.CAP_PROP_FRAME_WIDTH,  w)\n",
    "            cap.set(cv2.CAP_PROP_FRAME_HEIGHT, h)\n",
    "            actual_w = cap.get(cv2.CAP_PROP_FRAME_WIDTH)\n",
    "            actual_h = cap.get(cv2.CAP_PROP_FRAME_HEIGHT)\n",
    "            print(f\"  Requested {w}×{h}, got {actual_w:.0f}×{actual_h:.0f}\")\n",
    "\n",
    "            ret, frame = cap.read()\n",
    "            if not ret:\n",
    "                print(\"    ❌ No frame\")\n",
    "            else:\n",
    "                print(\"    ✅ Frame shape:\", frame.shape)\n",
    "                cv2.imshow(f\"Debug {backend} {int(actual_w)}x{int(actual_h)}\", frame)\n",
    "                cv2.waitKey(500)\n",
    "                cv2.destroyAllWindows()\n",
    "\n",
    "        cap.release()\n",
    "\n",
    "if __name__ == \"__main__\":\n",
    "    main()\n"
   ]
  }
 ],
 "metadata": {
  "kernelspec": {
   "display_name": "Python 3",
   "language": "python",
   "name": "python3"
  },
  "language_info": {
   "codemirror_mode": {
    "name": "ipython",
    "version": 3
   },
   "file_extension": ".py",
   "mimetype": "text/x-python",
   "name": "python",
   "nbconvert_exporter": "python",
   "pygments_lexer": "ipython3",
   "version": "3.10.2"
  }
 },
 "nbformat": 4,
 "nbformat_minor": 5
}
